{
  "metadata": {
    "kernelspec": {
      "language": "python",
      "display_name": "Python 3",
      "name": "python3"
    },
    "language_info": {
      "name": "python",
      "version": "3.10.12",
      "mimetype": "text/x-python",
      "codemirror_mode": {
        "name": "ipython",
        "version": 3
      },
      "pygments_lexer": "ipython3",
      "nbconvert_exporter": "python",
      "file_extension": ".py"
    },
    "kaggle": {
      "accelerator": "gpu",
      "dataSources": [
        {
          "sourceId": 7186792,
          "sourceType": "datasetVersion",
          "datasetId": 4154884
        }
      ],
      "dockerImageVersionId": 30616,
      "isInternetEnabled": true,
      "language": "python",
      "sourceType": "notebook",
      "isGpuEnabled": true
    },
    "colab": {
      "provenance": []
    }
  },
  "nbformat_minor": 0,
  "nbformat": 4,
  "cells": [
    {
      "cell_type": "code",
      "source": [
        "import pandas as pd\n",
        "from keras import backend as K\n",
        "from keras.preprocessing.image import ImageDataGenerator\n",
        "import os\n",
        "import cv2\n",
        "from tensorflow.keras import regularizers, Model\n",
        "from keras.layers import Dense\n",
        "from tensorflow.keras.callbacks import ReduceLROnPlateau, ModelCheckpoint\n",
        "from tensorflow.keras.utils import Sequence\n",
        "from keras.models import Model\n",
        "from matplotlib import pyplot as plt\n",
        "from tensorflow.keras.optimizers import Adam\n",
        "import keras\n",
        "import numpy as np\n",
        "import random\n",
        "import shutil\n",
        "\n",
        "from tensorflow.keras.applications.mobilenet_v3 import preprocess_input"
      ],
      "metadata": {
        "_uuid": "8f2839f25d086af736a60e9eeb907d3b93b6e0e5",
        "_cell_guid": "b1076dfc-b9ad-4769-8c92-a6c4dae69d19",
        "execution": {
          "iopub.status.busy": "2023-12-12T21:22:17.817720Z",
          "iopub.execute_input": "2023-12-12T21:22:17.818556Z",
          "iopub.status.idle": "2023-12-12T21:22:29.568663Z",
          "shell.execute_reply.started": "2023-12-12T21:22:17.818521Z",
          "shell.execute_reply": "2023-12-12T21:22:29.567837Z"
        },
        "trusted": true,
        "id": "mVrzwCnTgWK5",
        "outputId": "b20dd9a4-9c0a-4c0a-e251-9324623d5cfd"
      },
      "execution_count": null,
      "outputs": [
        {
          "name": "stderr",
          "text": "/opt/conda/lib/python3.10/site-packages/scipy/__init__.py:146: UserWarning: A NumPy version >=1.16.5 and <1.23.0 is required for this version of SciPy (detected version 1.24.3\n  warnings.warn(f\"A NumPy version >={np_minversion} and <{np_maxversion}\"\n",
          "output_type": "stream"
        }
      ]
    },
    {
      "cell_type": "markdown",
      "source": [
        "## Setup data splits in generators"
      ],
      "metadata": {
        "id": "4ULp5aqogWK_"
      }
    },
    {
      "cell_type": "code",
      "source": [
        "target = 224 # number of pixels. change this to 512 if you want to use the full image size. note: will slow computations\n",
        "\n",
        "dataPath = '/kaggle/input/glaucoma-dataset-eyepacs-airogs-light-v2/eyepac-light-v2-512/'\n",
        "\n",
        "batchSize = 8\n",
        "\n",
        "trainDataGen = ImageDataGenerator(preprocessing_function=preprocess_input, horizontal_flip=True, vertical_flip=True, brightness_range=(0.9, 1.1))\n",
        "trainGen = trainDataGen.flow_from_directory(batch_size = batchSize, shuffle=True,  class_mode=\"binary\", target_size=(target, target), directory=dataPath + 'train', color_mode='rgb')\n",
        "\n",
        "valDataGen = ImageDataGenerator(preprocessing_function=preprocess_input)\n",
        "valGen = valDataGen.flow_from_directory(batch_size = 1, class_mode=\"binary\", target_size=(target, target), directory=dataPath + 'validation', color_mode='rgb')\n",
        "\n",
        "testDataGen = ImageDataGenerator(preprocessing_function=preprocess_input)\n",
        "testGen = testDataGen.flow_from_directory(batch_size = 1, class_mode=\"binary\", target_size=(target, target), directory=dataPath + 'test', color_mode='rgb')"
      ],
      "metadata": {
        "execution": {
          "iopub.status.busy": "2023-12-12T21:22:29.570371Z",
          "iopub.execute_input": "2023-12-12T21:22:29.570926Z",
          "iopub.status.idle": "2023-12-12T21:22:36.515195Z",
          "shell.execute_reply.started": "2023-12-12T21:22:29.570901Z",
          "shell.execute_reply": "2023-12-12T21:22:36.514325Z"
        },
        "trusted": true,
        "id": "dLNbTIO2gWLB",
        "outputId": "81f842eb-3c3f-4d1d-857e-d15deaa1597f"
      },
      "execution_count": null,
      "outputs": [
        {
          "name": "stdout",
          "text": "Found 8000 images belonging to 2 classes.\nFound 770 images belonging to 2 classes.\nFound 770 images belonging to 2 classes.\n",
          "output_type": "stream"
        }
      ]
    },
    {
      "cell_type": "markdown",
      "source": [
        "## Create a MobileNetV3 instance"
      ],
      "metadata": {
        "id": "sIETG8pmgWLD"
      }
    },
    {
      "cell_type": "code",
      "source": [
        "def getModel(image_size, num_classes):\n",
        "    model_input = keras.Input(shape=(image_size, image_size, 3))\n",
        "\n",
        "    transfer = keras.applications.MobileNetV3Small(\n",
        "        weights='imagenet',\n",
        "        include_top=False,\n",
        "        input_tensor=model_input,\n",
        "        pooling='avg',\n",
        "        alpha=0.75,\n",
        "        dropout_rate=0.35,\n",
        "        classifier_activation=\"softmax\",\n",
        "        include_preprocessing=False\n",
        "    )\n",
        "\n",
        "    model_output = Dense(1, activation='sigmoid') (transfer.output)\n",
        "\n",
        "    return keras.Model(inputs=model_input, outputs=model_output)\n",
        "\n",
        "model = getModel(image_size=target, num_classes=1)\n",
        "\n",
        "reduce_lr = ReduceLROnPlateau(monitor='val_loss', factor=0.85, patience=2, min_lr=1e-5)\n",
        "model_checkpoint_callback = keras.callbacks.ModelCheckpoint(\n",
        "    filepath='val-best.h5',\n",
        "    monitor='val_loss',\n",
        "    mode='min',\n",
        "    save_best_only=True)"
      ],
      "metadata": {
        "execution": {
          "iopub.status.busy": "2023-12-12T21:22:36.516278Z",
          "iopub.execute_input": "2023-12-12T21:22:36.516560Z",
          "iopub.status.idle": "2023-12-12T21:22:41.356669Z",
          "shell.execute_reply.started": "2023-12-12T21:22:36.516535Z",
          "shell.execute_reply": "2023-12-12T21:22:41.355860Z"
        },
        "trusted": true,
        "id": "zBZAj47VgWLE",
        "outputId": "e0fc7390-3b27-4ef7-b2e2-a4ae31447fa8"
      },
      "execution_count": null,
      "outputs": [
        {
          "name": "stdout",
          "text": "Downloading data from https://storage.googleapis.com/tensorflow/keras-applications/mobilenet_v3/weights_mobilenet_v3_small_224_0.75_float_no_top_v2.h5\n2910456/2910456 [==============================] - 0s 0us/step\n",
          "output_type": "stream"
        }
      ]
    },
    {
      "cell_type": "markdown",
      "source": [
        "## Train the model"
      ],
      "metadata": {
        "id": "yH62iE8dgWLG"
      }
    },
    {
      "cell_type": "code",
      "source": [
        "model.compile(optimizer=Adam(1e-3), loss='binary_crossentropy', metrics=['binary_accuracy',keras.metrics.AUC(),keras.metrics.Precision(), keras.metrics.Recall()])\n",
        "\n",
        "history = model.fit(trainGen, steps_per_epoch = len(trainGen),validation_data=valGen, validation_steps=len(valGen), epochs=10, callbacks=[reduce_lr, model_checkpoint_callback])"
      ],
      "metadata": {
        "execution": {
          "iopub.status.busy": "2023-12-12T21:22:41.358573Z",
          "iopub.execute_input": "2023-12-12T21:22:41.358867Z",
          "iopub.status.idle": "2023-12-12T21:39:23.798922Z",
          "shell.execute_reply.started": "2023-12-12T21:22:41.358843Z",
          "shell.execute_reply": "2023-12-12T21:39:23.796863Z"
        },
        "trusted": true,
        "id": "H-sYMIH7gWLH",
        "outputId": "99ff3511-95c6-4dee-b29d-6d72eae4d1be"
      },
      "execution_count": null,
      "outputs": [
        {
          "name": "stdout",
          "text": "Epoch 1/10\n1000/1000 [==============================] - ETA: 0s - loss: 0.4508 - binary_accuracy: 0.7960 - auc: 0.8729 - precision: 0.7988 - recall: 0.7912",
          "output_type": "stream"
        },
        {
          "name": "stderr",
          "text": "/opt/conda/lib/python3.10/site-packages/keras/src/engine/training.py:3000: UserWarning: You are saving your model as an HDF5 file via `model.save()`. This file format is considered legacy. We recommend using instead the native Keras format, e.g. `model.save('my_model.keras')`.\n  saving_api.save_model(\n",
          "output_type": "stream"
        },
        {
          "name": "stdout",
          "text": "1000/1000 [==============================] - 196s 164ms/step - loss: 0.4508 - binary_accuracy: 0.7960 - auc: 0.8729 - precision: 0.7988 - recall: 0.7912 - val_loss: 0.4802 - val_binary_accuracy: 0.8312 - val_auc: 0.9346 - val_precision: 0.9153 - val_recall: 0.7299 - lr: 0.0010\nEpoch 2/10\n1000/1000 [==============================] - 90s 90ms/step - loss: 0.3282 - binary_accuracy: 0.8660 - auc: 0.9337 - precision: 0.8642 - recall: 0.8685 - val_loss: 0.3938 - val_binary_accuracy: 0.8481 - val_auc: 0.9426 - val_precision: 0.9061 - val_recall: 0.7766 - lr: 0.0010\nEpoch 3/10\n1000/1000 [==============================] - 90s 90ms/step - loss: 0.2873 - binary_accuracy: 0.8890 - auc: 0.9487 - precision: 0.8840 - recall: 0.8955 - val_loss: 0.2955 - val_binary_accuracy: 0.8870 - val_auc: 0.9484 - val_precision: 0.8880 - val_recall: 0.8857 - lr: 0.0010\nEpoch 4/10\n1000/1000 [==============================] - 89s 89ms/step - loss: 0.2640 - binary_accuracy: 0.8928 - auc: 0.9571 - precision: 0.8875 - recall: 0.8995 - val_loss: 0.4392 - val_binary_accuracy: 0.8558 - val_auc: 0.9587 - val_precision: 0.9660 - val_recall: 0.7377 - lr: 0.0010\nEpoch 5/10\n1000/1000 [==============================] - 89s 89ms/step - loss: 0.2410 - binary_accuracy: 0.9064 - auc: 0.9641 - precision: 0.9017 - recall: 0.9122 - val_loss: 0.3110 - val_binary_accuracy: 0.8961 - val_auc: 0.9528 - val_precision: 0.8803 - val_recall: 0.9169 - lr: 0.0010\nEpoch 6/10\n1000/1000 [==============================] - 90s 90ms/step - loss: 0.2239 - binary_accuracy: 0.9122 - auc: 0.9686 - precision: 0.9016 - recall: 0.9255 - val_loss: 0.2635 - val_binary_accuracy: 0.9065 - val_auc: 0.9640 - val_precision: 0.9218 - val_recall: 0.8883 - lr: 8.5000e-04\nEpoch 7/10\n1000/1000 [==============================] - 89s 89ms/step - loss: 0.2039 - binary_accuracy: 0.9211 - auc: 0.9740 - precision: 0.9138 - recall: 0.9300 - val_loss: 0.2366 - val_binary_accuracy: 0.9130 - val_auc: 0.9711 - val_precision: 0.9466 - val_recall: 0.8753 - lr: 8.5000e-04\nEpoch 8/10\n1000/1000 [==============================] - 89s 89ms/step - loss: 0.1953 - binary_accuracy: 0.9252 - auc: 0.9761 - precision: 0.9179 - recall: 0.9340 - val_loss: 0.2796 - val_binary_accuracy: 0.9169 - val_auc: 0.9606 - val_precision: 0.8741 - val_recall: 0.9740 - lr: 8.5000e-04\nEpoch 9/10\n1000/1000 [==============================] - 90s 90ms/step - loss: 0.1777 - binary_accuracy: 0.9316 - auc: 0.9798 - precision: 0.9243 - recall: 0.9402 - val_loss: 0.2229 - val_binary_accuracy: 0.9156 - val_auc: 0.9737 - val_precision: 0.8828 - val_recall: 0.9584 - lr: 8.5000e-04\nEpoch 10/10\n1000/1000 [==============================] - 91s 91ms/step - loss: 0.1768 - binary_accuracy: 0.9323 - auc: 0.9799 - precision: 0.9236 - recall: 0.9425 - val_loss: 0.2077 - val_binary_accuracy: 0.9208 - val_auc: 0.9723 - val_precision: 0.9091 - val_recall: 0.9351 - lr: 8.5000e-04\n",
          "output_type": "stream"
        }
      ]
    },
    {
      "cell_type": "markdown",
      "source": [
        "## Examine the training history"
      ],
      "metadata": {
        "id": "C1-hXnwXgWLH"
      }
    },
    {
      "cell_type": "code",
      "source": [
        "plt.plot(history.history[\"binary_accuracy\"])\n",
        "plt.plot(history.history[\"val_binary_accuracy\"])\n",
        "plt.title(\"Model Accuracy\")\n",
        "plt.ylabel(\"accuracy\")\n",
        "plt.xlabel(\"epoch\")\n",
        "plt.show()"
      ],
      "metadata": {
        "execution": {
          "iopub.status.busy": "2023-12-12T21:39:44.452425Z",
          "iopub.execute_input": "2023-12-12T21:39:44.453252Z",
          "iopub.status.idle": "2023-12-12T21:39:44.655428Z",
          "shell.execute_reply.started": "2023-12-12T21:39:44.453216Z",
          "shell.execute_reply": "2023-12-12T21:39:44.654558Z"
        },
        "trusted": true,
        "id": "BNyMHGXmgWLI",
        "outputId": "8e952eb5-e016-4fb0-e1b7-aa77ab0ee71b"
      },
      "execution_count": null,
      "outputs": [
        {
          "output_type": "display_data",
          "data": {
            "text/plain": "<Figure size 640x480 with 1 Axes>",
            "image/png": "[encoded data removed]"
          },
          "metadata": {}
        }
      ]
    },
    {
      "cell_type": "markdown",
      "source": [
        "## Evaluate results on the test set"
      ],
      "metadata": {
        "id": "ENjk9XgrgWLK"
      }
    },
    {
      "cell_type": "code",
      "source": [
        "model.load_weights('/kaggle/working/val-best.h5')\n",
        "model.evaluate(testGen)"
      ],
      "metadata": {
        "execution": {
          "iopub.status.busy": "2023-12-12T21:39:48.234774Z",
          "iopub.execute_input": "2023-12-12T21:39:48.235116Z",
          "iopub.status.idle": "2023-12-12T21:39:56.804710Z",
          "shell.execute_reply.started": "2023-12-12T21:39:48.235091Z",
          "shell.execute_reply": "2023-12-12T21:39:56.803862Z"
        },
        "trusted": true,
        "id": "qoxsKB2UgWLK",
        "outputId": "8cbf0d67-cae3-4e5b-e5f7-c2975db771f8"
      },
      "execution_count": null,
      "outputs": [
        {
          "name": "stdout",
          "text": "770/770 [==============================] - 8s 11ms/step - loss: 0.2533 - binary_accuracy: 0.8896 - auc: 0.9613 - precision: 0.8713 - recall: 0.9143\n",
          "output_type": "stream"
        },
        {
          "execution_count": 8,
          "output_type": "execute_result",
          "data": {
            "text/plain": "[0.25333598256111145,\n 0.8896104097366333,\n 0.9613391160964966,\n 0.8712871074676514,\n 0.9142857193946838]"
          },
          "metadata": {}
        }
      ]
    }
  ]
}