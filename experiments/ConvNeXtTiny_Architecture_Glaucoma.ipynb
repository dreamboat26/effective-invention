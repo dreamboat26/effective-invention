{
  "metadata": {
    "kernelspec": {
      "language": "python",
      "display_name": "Python 3",
      "name": "python3"
    },
    "language_info": {
      "name": "python",
      "version": "3.10.12",
      "mimetype": "text/x-python",
      "codemirror_mode": {
        "name": "ipython",
        "version": 3
      },
      "pygments_lexer": "ipython3",
      "nbconvert_exporter": "python",
      "file_extension": ".py"
    },
    "kaggle": {
      "accelerator": "gpu",
      "dataSources": [
        {
          "sourceId": 7186792,
          "sourceType": "datasetVersion",
          "datasetId": 4154884
        }
      ],
      "dockerImageVersionId": 30616,
      "isInternetEnabled": true,
      "language": "python",
      "sourceType": "notebook",
      "isGpuEnabled": true
    },
    "colab": {
      "provenance": []
    }
  },
  "nbformat_minor": 0,
  "nbformat": 4,
  "cells": [
    {
      "cell_type": "markdown",
      "source": [
        "# ConvNeXtTiny for Glaucoma Binary Classification\n",
        "* Model: ConvNeXtTiny with GlobalMaxPool2D and a Regularized Dense Layer\n",
        "* Preprocessing: Noise, Flipping, Rotation, Shearing, Brightness, Shifting, Zooming\n",
        "* Dataset: Training set doubled with 2 uniquely seeded generators combined; batch size 8; image size 256x256\n",
        "* Meta-Learning: ReduceLROnPlateau(monitor='val_loss', factor=0.95, patience=1, min_lr=1e-5); Model checkpoints on best validation loss"
      ],
      "metadata": {
        "id": "BKDvZ51ig3uX"
      }
    },
    {
      "cell_type": "markdown",
      "source": [
        "## Libraries"
      ],
      "metadata": {
        "id": "Lnctu-KDg3ud"
      }
    },
    {
      "cell_type": "code",
      "source": [
        "import pandas as pd\n",
        "from keras import backend as K\n",
        "from keras.preprocessing.image import ImageDataGenerator\n",
        "import os\n",
        "import cv2\n",
        "from tensorflow.keras import regularizers, Model\n",
        "from keras.layers import Dense, GlobalMaxPool2D, Dropout\n",
        "from tensorflow.keras.callbacks import ReduceLROnPlateau, ModelCheckpoint\n",
        "from tensorflow.keras.utils import Sequence\n",
        "from keras.models import Model\n",
        "from matplotlib import pyplot as plt\n",
        "from tensorflow.keras.optimizers import Adam\n",
        "import keras\n",
        "import numpy as np\n",
        "import random\n",
        "import shutil\n",
        "\n",
        "#from tensorflow.keras.applications.xception import preprocess_input"
      ],
      "metadata": {
        "execution": {
          "iopub.status.busy": "2023-12-28T21:12:38.647103Z",
          "iopub.execute_input": "2023-12-28T21:12:38.647819Z",
          "iopub.status.idle": "2023-12-28T21:12:50.407530Z",
          "shell.execute_reply.started": "2023-12-28T21:12:38.647786Z",
          "shell.execute_reply": "2023-12-28T21:12:50.406720Z"
        },
        "trusted": true,
        "id": "GFh30qxog3uh",
        "outputId": "bf5443fc-88fd-4f4a-8be1-fc7cba44f5a3"
      },
      "execution_count": null,
      "outputs": [
        {
          "name": "stderr",
          "text": "/opt/conda/lib/python3.10/site-packages/scipy/__init__.py:146: UserWarning: A NumPy version >=1.16.5 and <1.23.0 is required for this version of SciPy (detected version 1.24.3\n  warnings.warn(f\"A NumPy version >={np_minversion} and <{np_maxversion}\"\n",
          "output_type": "stream"
        }
      ]
    },
    {
      "cell_type": "markdown",
      "source": [
        "## Setup data splits in generators"
      ],
      "metadata": {
        "id": "Q2zt4qntg3uj"
      }
    },
    {
      "cell_type": "code",
      "source": [
        "target = 256 # number of pixels. change this to 512 if you want to use the full image size. note: will slow computations\n",
        "\n",
        "dataPath = '/kaggle/input/glaucoma-dataset-eyepacs-airogs-light-v2/eyepac-light-v2-512/'\n",
        "\n",
        "# inject noise but keep dark parts black\n",
        "def addNoise(image):\n",
        "    gray = cv2.cvtColor(image, cv2.COLOR_RGB2GRAY).astype(np.uint8)\n",
        "    ret, mask = cv2.threshold(gray, 5, 255, cv2.THRESH_BINARY)\n",
        "\n",
        "    randStd = random.uniform(0, 10.0)\n",
        "    gaussian = np.random.normal(randStd*-1, randStd, (target, target,3))\n",
        "    noisy_image = image + gaussian\n",
        "    image = np.clip(noisy_image, 0, 255).astype(np.uint8)\n",
        "\n",
        "    image[mask == 0] = [0,0,0]\n",
        "    #image = preprocess_input(image)\n",
        "    return image\n",
        "\n",
        "# combine two unique generators using noise injection and moderate preprocessing\n",
        "batchSize = 8\n",
        "trainDataGen = ImageDataGenerator(preprocessing_function=addNoise, horizontal_flip=True,vertical_flip=True, channel_shift_range=10, width_shift_range=0.05, height_shift_range=0.05,rotation_range=360,shear_range=30, brightness_range=(0.95, 1.05),  fill_mode = 'constant', cval=0, zoom_range=0.05)\n",
        "trainGen1 = trainDataGen.flow_from_directory(batch_size = batchSize, shuffle=True,  class_mode=\"binary\", target_size=(target, target), directory=dataPath + 'train', color_mode='rgb', seed=0)\n",
        "trainGen2 = trainDataGen.flow_from_directory(batch_size = batchSize, shuffle=True,  class_mode=\"binary\", target_size=(target, target), directory=dataPath + 'train', color_mode='rgb', seed=1)\n",
        "\n",
        "def combine_gen(*gens):\n",
        "    while True:\n",
        "        for g in gens:\n",
        "            yield next(g)\n",
        "\n",
        "trainGen = combine_gen(trainGen1, trainGen2)\n",
        "\n",
        "valDataGen = ImageDataGenerator(preprocessing_function=None)\n",
        "valGen = valDataGen.flow_from_directory(batch_size = 1, class_mode=\"binary\", target_size=(target, target), directory=dataPath + 'validation', color_mode='rgb')\n",
        "\n",
        "testDataGen = ImageDataGenerator(preprocessing_function=None)\n",
        "testGen = testDataGen.flow_from_directory(batch_size = 1, class_mode=\"binary\", target_size=(target, target), directory=dataPath + 'test', color_mode='rgb')"
      ],
      "metadata": {
        "execution": {
          "iopub.status.busy": "2023-12-28T21:27:31.872448Z",
          "iopub.execute_input": "2023-12-28T21:27:31.873382Z",
          "iopub.status.idle": "2023-12-28T21:27:33.788339Z",
          "shell.execute_reply.started": "2023-12-28T21:27:31.873345Z",
          "shell.execute_reply": "2023-12-28T21:27:33.787421Z"
        },
        "trusted": true,
        "id": "vb62aEh5g3uk",
        "outputId": "390b186f-99f9-4a51-f744-37fcd3795434"
      },
      "execution_count": null,
      "outputs": [
        {
          "name": "stdout",
          "text": "Found 8000 images belonging to 2 classes.\nFound 8000 images belonging to 2 classes.\nFound 770 images belonging to 2 classes.\nFound 770 images belonging to 2 classes.\n",
          "output_type": "stream"
        }
      ]
    },
    {
      "cell_type": "markdown",
      "source": [
        "## Create a ConvNeXtTiny instance"
      ],
      "metadata": {
        "id": "Dz_NuAYVg3ul"
      }
    },
    {
      "cell_type": "code",
      "source": [
        "# simple model that uses ConvNeXtTiny backbone; accomodate for overfitting with a regularized dense layer after backbone\n",
        "def getModel(image_size, num_classes):\n",
        "    model_input = keras.Input(shape=(image_size, image_size, 3))\n",
        "\n",
        "    transfer = keras.applications.ConvNeXtTiny(\n",
        "        weights='imagenet', include_preprocessing=True, include_top=False, input_tensor=model_input\n",
        "    )\n",
        "    x = transfer.output\n",
        "    x = GlobalMaxPool2D()(x)\n",
        "    x = Dense(64, activation='relu', kernel_regularizer=regularizers.L1L2(l1=1e-1))(x)\n",
        "    model_output = Dense(1, activation='sigmoid') (x)\n",
        "\n",
        "    return keras.Model(inputs=model_input, outputs=model_output)\n",
        "\n",
        "model = getModel(image_size=target, num_classes=1)"
      ],
      "metadata": {
        "execution": {
          "iopub.status.busy": "2023-12-28T21:27:35.806277Z",
          "iopub.execute_input": "2023-12-28T21:27:35.806628Z",
          "iopub.status.idle": "2023-12-28T21:27:38.057095Z",
          "shell.execute_reply.started": "2023-12-28T21:27:35.806600Z",
          "shell.execute_reply": "2023-12-28T21:27:38.056092Z"
        },
        "trusted": true,
        "id": "PzfsMJ1rg3un"
      },
      "execution_count": null,
      "outputs": []
    },
    {
      "cell_type": "markdown",
      "source": [
        "## Model Meta-Learning Configurations"
      ],
      "metadata": {
        "id": "Wee9hnNVg3uo"
      }
    },
    {
      "cell_type": "code",
      "source": [
        "reduce_lr = ReduceLROnPlateau(monitor='val_loss', factor=0.95, patience=1, min_lr=1e-5)\n",
        "model_checkpoint_callback = keras.callbacks.ModelCheckpoint(\n",
        "    filepath='val-best.h5',\n",
        "    monitor='val_loss',\n",
        "    mode='min',\n",
        "    save_best_only=True)"
      ],
      "metadata": {
        "execution": {
          "iopub.status.busy": "2023-12-28T21:14:23.906650Z",
          "iopub.execute_input": "2023-12-28T21:14:23.907618Z",
          "iopub.status.idle": "2023-12-28T21:14:23.912551Z",
          "shell.execute_reply.started": "2023-12-28T21:14:23.907581Z",
          "shell.execute_reply": "2023-12-28T21:14:23.911551Z"
        },
        "trusted": true,
        "id": "q-Niyvu6g3up"
      },
      "execution_count": null,
      "outputs": []
    },
    {
      "cell_type": "markdown",
      "source": [
        "## Model Training\n",
        "Note: No training on the doubled dataset yet for quicker convergence"
      ],
      "metadata": {
        "id": "5t_0gb9-g3us"
      }
    },
    {
      "cell_type": "code",
      "source": [
        "model.compile(optimizer=Adam(1e-4), loss='binary_crossentropy', metrics=['binary_accuracy',keras.metrics.AUC(),keras.metrics.Precision(), keras.metrics.Recall()])\n",
        "history = model.fit(trainGen1, steps_per_epoch = len(trainGen1),validation_data=valGen, validation_steps=len(valGen), epochs=20, callbacks=[reduce_lr, model_checkpoint_callback])"
      ],
      "metadata": {
        "execution": {
          "iopub.status.busy": "2023-12-28T21:27:41.225181Z",
          "iopub.execute_input": "2023-12-28T21:27:41.225887Z",
          "iopub.status.idle": "2023-12-28T22:56:41.867530Z",
          "shell.execute_reply.started": "2023-12-28T21:27:41.225852Z",
          "shell.execute_reply": "2023-12-28T22:56:41.866587Z"
        },
        "trusted": true,
        "id": "JsgB_EnDg3us",
        "outputId": "356383f9-271e-4621-eeda-4fb594e21951"
      },
      "execution_count": null,
      "outputs": [
        {
          "name": "stdout",
          "text": "Epoch 1/20\n1000/1000 [==============================] - 307s 269ms/step - loss: 62.3853 - binary_accuracy: 0.8026 - auc_3: 0.8875 - precision_3: 0.8065 - recall_3: 0.7962 - val_loss: 1.0240 - val_binary_accuracy: 0.9026 - val_auc_3: 0.9621 - val_precision_3: 0.8914 - val_recall_3: 0.9169 - lr: 1.0000e-04\nEpoch 2/20\n1000/1000 [==============================] - 267s 267ms/step - loss: 0.6353 - binary_accuracy: 0.8737 - auc_3: 0.9399 - precision_3: 0.8664 - recall_3: 0.8838 - val_loss: 0.4226 - val_binary_accuracy: 0.9104 - val_auc_3: 0.9665 - val_precision_3: 0.9093 - val_recall_3: 0.9117 - lr: 1.0000e-04\nEpoch 3/20\n1000/1000 [==============================] - 267s 267ms/step - loss: 0.4403 - binary_accuracy: 0.8930 - auc_3: 0.9536 - precision_3: 0.8857 - recall_3: 0.9025 - val_loss: 0.4062 - val_binary_accuracy: 0.8974 - val_auc_3: 0.9624 - val_precision_3: 0.9347 - val_recall_3: 0.8545 - lr: 1.0000e-04\nEpoch 4/20\n1000/1000 [==============================] - 266s 266ms/step - loss: 0.4015 - binary_accuracy: 0.9015 - auc_3: 0.9586 - precision_3: 0.8932 - recall_3: 0.9120 - val_loss: 0.3750 - val_binary_accuracy: 0.9117 - val_auc_3: 0.9696 - val_precision_3: 0.9391 - val_recall_3: 0.8805 - lr: 1.0000e-04\nEpoch 5/20\n1000/1000 [==============================] - 270s 270ms/step - loss: 0.3776 - binary_accuracy: 0.9055 - auc_3: 0.9640 - precision_3: 0.8941 - recall_3: 0.9200 - val_loss: 0.3109 - val_binary_accuracy: 0.9403 - val_auc_3: 0.9772 - val_precision_3: 0.9335 - val_recall_3: 0.9481 - lr: 1.0000e-04\nEpoch 6/20\n1000/1000 [==============================] - 265s 265ms/step - loss: 0.3667 - binary_accuracy: 0.9099 - auc_3: 0.9678 - precision_3: 0.9011 - recall_3: 0.9208 - val_loss: 0.3185 - val_binary_accuracy: 0.9325 - val_auc_3: 0.9800 - val_precision_3: 0.9132 - val_recall_3: 0.9558 - lr: 1.0000e-04\nEpoch 7/20\n1000/1000 [==============================] - 266s 266ms/step - loss: 0.3384 - binary_accuracy: 0.9193 - auc_3: 0.9708 - precision_3: 0.9088 - recall_3: 0.9320 - val_loss: 0.2959 - val_binary_accuracy: 0.9364 - val_auc_3: 0.9817 - val_precision_3: 0.9468 - val_recall_3: 0.9247 - lr: 9.5000e-05\nEpoch 8/20\n1000/1000 [==============================] - 266s 266ms/step - loss: 0.3288 - binary_accuracy: 0.9256 - auc_3: 0.9720 - precision_3: 0.9160 - recall_3: 0.9373 - val_loss: 0.3002 - val_binary_accuracy: 0.9273 - val_auc_3: 0.9840 - val_precision_3: 0.9507 - val_recall_3: 0.9013 - lr: 9.5000e-05\nEpoch 9/20\n1000/1000 [==============================] - 270s 270ms/step - loss: 0.3125 - binary_accuracy: 0.9269 - auc_3: 0.9761 - precision_3: 0.9207 - recall_3: 0.9342 - val_loss: 0.2957 - val_binary_accuracy: 0.9351 - val_auc_3: 0.9820 - val_precision_3: 0.9306 - val_recall_3: 0.9403 - lr: 9.0250e-05\nEpoch 10/20\n1000/1000 [==============================] - 269s 268ms/step - loss: 0.2982 - binary_accuracy: 0.9309 - auc_3: 0.9794 - precision_3: 0.9248 - recall_3: 0.9380 - val_loss: 0.2902 - val_binary_accuracy: 0.9325 - val_auc_3: 0.9810 - val_precision_3: 0.9302 - val_recall_3: 0.9351 - lr: 9.0250e-05\nEpoch 11/20\n1000/1000 [==============================] - 266s 265ms/step - loss: 0.2977 - binary_accuracy: 0.9317 - auc_3: 0.9791 - precision_3: 0.9229 - recall_3: 0.9423 - val_loss: 0.2693 - val_binary_accuracy: 0.9403 - val_auc_3: 0.9839 - val_precision_3: 0.9449 - val_recall_3: 0.9351 - lr: 9.0250e-05\nEpoch 12/20\n1000/1000 [==============================] - 265s 265ms/step - loss: 0.2858 - binary_accuracy: 0.9365 - auc_3: 0.9807 - precision_3: 0.9309 - recall_3: 0.9430 - val_loss: 0.2674 - val_binary_accuracy: 0.9442 - val_auc_3: 0.9831 - val_precision_3: 0.9362 - val_recall_3: 0.9532 - lr: 9.0250e-05\nEpoch 13/20\n1000/1000 [==============================] - 264s 264ms/step - loss: 0.2733 - binary_accuracy: 0.9427 - auc_3: 0.9828 - precision_3: 0.9386 - recall_3: 0.9475 - val_loss: 0.3236 - val_binary_accuracy: 0.9234 - val_auc_3: 0.9799 - val_precision_3: 0.9405 - val_recall_3: 0.9039 - lr: 9.0250e-05\nEpoch 14/20\n1000/1000 [==============================] - 262s 262ms/step - loss: 0.2635 - binary_accuracy: 0.9433 - auc_3: 0.9840 - precision_3: 0.9373 - recall_3: 0.9500 - val_loss: 0.2688 - val_binary_accuracy: 0.9390 - val_auc_3: 0.9808 - val_precision_3: 0.9289 - val_recall_3: 0.9506 - lr: 8.5737e-05\nEpoch 15/20\n1000/1000 [==============================] - 264s 264ms/step - loss: 0.2558 - binary_accuracy: 0.9469 - auc_3: 0.9851 - precision_3: 0.9389 - recall_3: 0.9560 - val_loss: 0.2763 - val_binary_accuracy: 0.9312 - val_auc_3: 0.9860 - val_precision_3: 0.9560 - val_recall_3: 0.9039 - lr: 8.1451e-05\nEpoch 16/20\n1000/1000 [==============================] - 262s 262ms/step - loss: 0.2378 - binary_accuracy: 0.9524 - auc_3: 0.9865 - precision_3: 0.9469 - recall_3: 0.9585 - val_loss: 0.2451 - val_binary_accuracy: 0.9506 - val_auc_3: 0.9872 - val_precision_3: 0.9242 - val_recall_3: 0.9818 - lr: 7.7378e-05\nEpoch 17/20\n1000/1000 [==============================] - 262s 262ms/step - loss: 0.2328 - binary_accuracy: 0.9513 - auc_3: 0.9879 - precision_3: 0.9431 - recall_3: 0.9605 - val_loss: 0.2548 - val_binary_accuracy: 0.9494 - val_auc_3: 0.9794 - val_precision_3: 0.9240 - val_recall_3: 0.9792 - lr: 7.7378e-05\nEpoch 18/20\n1000/1000 [==============================] - 263s 262ms/step - loss: 0.2261 - binary_accuracy: 0.9542 - auc_3: 0.9877 - precision_3: 0.9471 - recall_3: 0.9622 - val_loss: 0.2408 - val_binary_accuracy: 0.9494 - val_auc_3: 0.9825 - val_precision_3: 0.9261 - val_recall_3: 0.9766 - lr: 7.3509e-05\nEpoch 19/20\n1000/1000 [==============================] - 261s 261ms/step - loss: 0.2199 - binary_accuracy: 0.9538 - auc_3: 0.9886 - precision_3: 0.9468 - recall_3: 0.9615 - val_loss: 0.2634 - val_binary_accuracy: 0.9377 - val_auc_3: 0.9791 - val_precision_3: 0.9423 - val_recall_3: 0.9325 - lr: 7.3509e-05\nEpoch 20/20\n1000/1000 [==============================] - 260s 260ms/step - loss: 0.2093 - binary_accuracy: 0.9581 - auc_3: 0.9901 - precision_3: 0.9553 - recall_3: 0.9613 - val_loss: 0.2464 - val_binary_accuracy: 0.9494 - val_auc_3: 0.9814 - val_precision_3: 0.9303 - val_recall_3: 0.9714 - lr: 6.9834e-05\n",
          "output_type": "stream"
        }
      ]
    },
    {
      "cell_type": "code",
      "source": [
        "plt.plot(history.history[\"binary_accuracy\"])\n",
        "plt.plot(history.history[\"val_binary_accuracy\"])\n",
        "plt.title(\"Model Accuracy\")\n",
        "plt.ylabel(\"accuracy\")\n",
        "plt.xlabel(\"epoch\")\n",
        "plt.show()"
      ],
      "metadata": {
        "execution": {
          "iopub.status.busy": "2023-12-28T22:56:41.869319Z",
          "iopub.execute_input": "2023-12-28T22:56:41.869609Z",
          "iopub.status.idle": "2023-12-28T22:56:42.175285Z",
          "shell.execute_reply.started": "2023-12-28T22:56:41.869581Z",
          "shell.execute_reply": "2023-12-28T22:56:42.174338Z"
        },
        "trusted": true,
        "id": "mh-DM_R1g3ut",
        "outputId": "ec6ac767-d52f-49cb-a1ec-ee798e1062a7"
      },
      "execution_count": null,
      "outputs": [
        {
          "output_type": "display_data",
          "data": {
            "text/plain": "<Figure size 640x480 with 1 Axes>",
            "image/png": "[encoded data removed]"
          },
          "metadata": {}
        }
      ]
    },
    {
      "cell_type": "code",
      "source": [
        "# evaluate using best epoch model according to validation loss\n",
        "model.save('pretrained.h5')\n",
        "model.load_weights('/kaggle/working/val-best.h5')\n",
        "model.evaluate(testGen)"
      ],
      "metadata": {
        "execution": {
          "iopub.status.busy": "2023-12-28T22:57:01.995797Z",
          "iopub.execute_input": "2023-12-28T22:57:01.996423Z",
          "iopub.status.idle": "2023-12-28T22:57:21.139045Z",
          "shell.execute_reply.started": "2023-12-28T22:57:01.996383Z",
          "shell.execute_reply": "2023-12-28T22:57:21.138118Z"
        },
        "trusted": true,
        "id": "JECIN_y3g3uu",
        "outputId": "a30dcf78-d6fb-4c68-ff0c-556c7d41d26b"
      },
      "execution_count": null,
      "outputs": [
        {
          "name": "stdout",
          "text": "770/770 [==============================] - 19s 24ms/step - loss: 0.2630 - binary_accuracy: 0.9377 - auc_3: 0.9825 - precision_3: 0.9080 - recall_3: 0.9740\n",
          "output_type": "stream"
        },
        {
          "execution_count": 18,
          "output_type": "execute_result",
          "data": {
            "text/plain": "[0.26296645402908325,\n 0.9376623630523682,\n 0.9825130701065063,\n 0.9079903364181519,\n 0.9740259647369385]"
          },
          "metadata": {}
        }
      ]
    },
    {
      "cell_type": "markdown",
      "source": [
        "# Double training data with the other uniqely seeded training generator to prevent overfitting and continue training"
      ],
      "metadata": {
        "id": "wVLLR0aTg3uv"
      }
    },
    {
      "cell_type": "code",
      "source": [
        "model.load_weights('pretrained.h5')\n",
        "history = model.fit(trainGen, steps_per_epoch = len(trainGen1)*2,validation_data=valGen, validation_steps=len(valGen), epochs=5, callbacks=[reduce_lr, model_checkpoint_callback])"
      ],
      "metadata": {
        "execution": {
          "iopub.status.busy": "2023-12-28T22:58:30.785882Z",
          "iopub.execute_input": "2023-12-28T22:58:30.786257Z",
          "iopub.status.idle": "2023-12-28T23:40:16.346995Z",
          "shell.execute_reply.started": "2023-12-28T22:58:30.786225Z",
          "shell.execute_reply": "2023-12-28T23:40:16.346159Z"
        },
        "trusted": true,
        "id": "3CFtvEZhg3uv",
        "outputId": "df4143ed-ec9e-4efb-c41f-52fb11338b54"
      },
      "execution_count": null,
      "outputs": [
        {
          "name": "stdout",
          "text": "Epoch 1/5\n2000/2000 [==============================] - 504s 252ms/step - loss: 0.2012 - binary_accuracy: 0.9582 - auc_3: 0.9905 - precision_3: 0.9533 - recall_3: 0.9638 - val_loss: 0.2226 - val_binary_accuracy: 0.9571 - val_auc_3: 0.9844 - val_precision_3: 0.9513 - val_recall_3: 0.9636 - lr: 6.6342e-05\nEpoch 2/5\n2000/2000 [==============================] - 502s 251ms/step - loss: 0.1880 - binary_accuracy: 0.9645 - auc_3: 0.9921 - precision_3: 0.9596 - recall_3: 0.9699 - val_loss: 0.2511 - val_binary_accuracy: 0.9455 - val_auc_3: 0.9781 - val_precision_3: 0.9501 - val_recall_3: 0.9403 - lr: 6.6342e-05\nEpoch 3/5\n2000/2000 [==============================] - 501s 250ms/step - loss: 0.1775 - binary_accuracy: 0.9668 - auc_3: 0.9929 - precision_3: 0.9611 - recall_3: 0.9729 - val_loss: 0.2357 - val_binary_accuracy: 0.9519 - val_auc_3: 0.9835 - val_precision_3: 0.9328 - val_recall_3: 0.9740 - lr: 6.3025e-05\nEpoch 4/5\n2000/2000 [==============================] - 501s 250ms/step - loss: 0.1637 - binary_accuracy: 0.9712 - auc_3: 0.9936 - precision_3: 0.9696 - recall_3: 0.9730 - val_loss: 0.2434 - val_binary_accuracy: 0.9364 - val_auc_3: 0.9817 - val_precision_3: 0.9565 - val_recall_3: 0.9143 - lr: 5.9874e-05\nEpoch 5/5\n2000/2000 [==============================] - 498s 249ms/step - loss: 0.1549 - binary_accuracy: 0.9733 - auc_3: 0.9944 - precision_3: 0.9705 - recall_3: 0.9762 - val_loss: 0.2605 - val_binary_accuracy: 0.9312 - val_auc_3: 0.9817 - val_precision_3: 0.9560 - val_recall_3: 0.9039 - lr: 5.6880e-05\n",
          "output_type": "stream"
        }
      ]
    },
    {
      "cell_type": "code",
      "source": [
        "model.save('pretrained2.h5')\n",
        "model.load_weights('/kaggle/working/val-best.h5')\n",
        "model.evaluate(testGen)"
      ],
      "metadata": {
        "execution": {
          "iopub.status.busy": "2023-12-28T23:40:35.366848Z",
          "iopub.execute_input": "2023-12-28T23:40:35.367130Z",
          "iopub.status.idle": "2023-12-28T23:40:55.446737Z",
          "shell.execute_reply.started": "2023-12-28T23:40:35.367105Z",
          "shell.execute_reply": "2023-12-28T23:40:55.445794Z"
        },
        "trusted": true,
        "id": "tLm70effg3uv",
        "outputId": "e1173ede-cb02-4011-d422-75f0c7f7cd2d"
      },
      "execution_count": null,
      "outputs": [
        {
          "name": "stdout",
          "text": "770/770 [==============================] - 19s 24ms/step - loss: 0.2459 - binary_accuracy: 0.9494 - auc_3: 0.9796 - precision_3: 0.9459 - recall_3: 0.9532\n",
          "output_type": "stream"
        },
        {
          "execution_count": 21,
          "output_type": "execute_result",
          "data": {
            "text/plain": "[0.24587659537792206,\n 0.9493506550788879,\n 0.9795884490013123,\n 0.9458763003349304,\n 0.9532467722892761]"
          },
          "metadata": {}
        }
      ]
    }
  ]
}